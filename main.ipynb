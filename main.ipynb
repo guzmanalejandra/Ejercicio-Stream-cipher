{
 "cells": [
  {
   "cell_type": "code",
   "execution_count": 8,
   "metadata": {},
   "outputs": [],
   "source": [
    "import base64\n",
    "\n",
    "def xor(char1, char2):\n",
    "    return chr(ord(char1) ^ ord(char2))"
   ]
  },
  {
   "cell_type": "code",
   "execution_count": 9,
   "metadata": {},
   "outputs": [],
   "source": [
    "def generar_keystream(clave, longitud):\n",
    "    keystream = [ord(clave[i % len(clave)]) for i in range(longitud)]\n",
    "    return keystream"
   ]
  },
  {
   "cell_type": "code",
   "execution_count": 10,
   "metadata": {},
   "outputs": [],
   "source": [
    "def encriptar(mensaje, keystream):\n",
    "    cifrado = \"\".join(xor(mensaje[i], chr(keystream[i])) for i in range(len(mensaje)))\n",
    "    return base64.b64encode(cifrado.encode()).decode()"
   ]
  },
  {
   "cell_type": "code",
   "execution_count": 11,
   "metadata": {},
   "outputs": [],
   "source": [
    "def desencriptar(cifrado, keystream):\n",
    "\n",
    "    cifrado = base64.b64decode(cifrado).decode()\n",
    "    descifrado = \"\".join(xor(cifrado[i], chr(keystream[i])) for i in range(len(cifrado)))\n",
    "    return descifrado"
   ]
  },
  {
   "cell_type": "code",
   "execution_count": 17,
   "metadata": {},
   "outputs": [
    {
     "name": "stdout",
     "output_type": "stream",
     "text": [
      "Mensaje cifrado: KAYGDBBFHBMIDQwbFgxJAB8VCA==\n",
      "Mensaje cifrado 2: CAYGDEkVHg4FDgMRHUMMFhgOHg==\n",
      "Mensaje descifrado: Estoy probando esto\n"
     ]
    }
   ],
   "source": [
    "clave = \"murcielago\"\n",
    "mensaje = \"Estoy probando esto\"\n",
    "mensaje2 = \"esto probando estoy\"\n",
    "keystream = generar_keystream(clave, max(len(mensaje), len(mensaje2)))\n",
    "mensaje_cifrado = encriptar(mensaje, keystream)\n",
    "mensaje_cifrado2 = encriptar(mensaje2, keystream)\n",
    "mensaje_descifrado = desencriptar(mensaje_cifrado, keystream)\n",
    "mensaje_descifrado2 = desencriptar(mensaje_cifrado2, keystream)\n",
    "\n",
    "print(\"Mensaje cifrado:\", mensaje_cifrado)\n",
    "print(\"Mensaje cifrado 2:\", mensaje_cifrado2)\n",
    "print(\"Mensaje descifrado:\", mensaje_descifrado)\n"
   ]
  },
  {
   "cell_type": "markdown",
   "metadata": {},
   "source": [
    "¿Cómo cambia el mensaje cifrado cuando cambias la clave?\n",
    "  - Cada vez que se cambia la clave el keystream va a generar algo diferente, lo cual va a terminar siendo un mensaje cifrado completamente distinto, incluso si el mensaje original permanece igual.\n",
    "\n",
    "¿Qué sucede si utilizas el mismo Keystream para cifrar dos mensajes diferentes?\n",
    "\n",
    "- Si se utilizan el mismo keystream para cifrar dos mensajes, se pueden ver ciertos parecidos en los mensajes y poder recuperar la informacion del mensaje.\n",
    "\n",
    "¿Cómo afecta la longitud del Keystream a la seguridad del cifrado?\n",
    "\n",
    "- Es necesario para la seguridad mientras mas corto es más facil descifrarlo o es mas probable que repita como un patron , por lo tanto es mejor por seguridad que tenga un largo algo (valga la redundancia) largo."
   ]
  }
 ],
 "metadata": {
  "kernelspec": {
   "display_name": "Python 3",
   "language": "python",
   "name": "python3"
  },
  "language_info": {
   "codemirror_mode": {
    "name": "ipython",
    "version": 3
   },
   "file_extension": ".py",
   "mimetype": "text/x-python",
   "name": "python",
   "nbconvert_exporter": "python",
   "pygments_lexer": "ipython3",
   "version": "3.12.2"
  }
 },
 "nbformat": 4,
 "nbformat_minor": 2
}
